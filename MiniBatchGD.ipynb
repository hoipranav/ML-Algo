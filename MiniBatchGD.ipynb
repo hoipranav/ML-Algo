{
 "cells": [
  {
   "cell_type": "code",
   "execution_count": 206,
   "id": "27b85bed-0146-4579-b4cf-3a658afbcf3d",
   "metadata": {},
   "outputs": [],
   "source": [
    "import numpy as np\n",
    "import matplotlib.pyplot as plt\n",
    "from sklearn.datasets import make_regression"
   ]
  },
  {
   "cell_type": "code",
   "execution_count": 207,
   "id": "dc2a5a45-3460-4d66-8d8b-205fd8a7d736",
   "metadata": {},
   "outputs": [],
   "source": [
    "X, y = make_regression(n_samples=1000, n_features=10, noise=80, random_state=42)"
   ]
  },
  {
   "cell_type": "code",
   "execution_count": 208,
   "id": "e509c378-700b-48d6-bb65-6fe7051a1a22",
   "metadata": {},
   "outputs": [
    {
     "data": {
      "text/plain": [
       "(1000, 10)"
      ]
     },
     "execution_count": 208,
     "metadata": {},
     "output_type": "execute_result"
    }
   ],
   "source": [
    "X.shape"
   ]
  },
  {
   "cell_type": "code",
   "execution_count": 209,
   "id": "392f0a84-1391-4508-a718-1aad373042da",
   "metadata": {},
   "outputs": [
    {
     "data": {
      "text/plain": [
       "(1000,)"
      ]
     },
     "execution_count": 209,
     "metadata": {},
     "output_type": "execute_result"
    }
   ],
   "source": [
    "y.shape"
   ]
  },
  {
   "cell_type": "code",
   "execution_count": 210,
   "id": "e7f42858-5a37-445d-b47b-0eaed0a8e2fb",
   "metadata": {},
   "outputs": [],
   "source": [
    "from sklearn.linear_model import LinearRegression"
   ]
  },
  {
   "cell_type": "code",
   "execution_count": 211,
   "id": "7d43be3e-56eb-47e4-9e82-3fefad07fddf",
   "metadata": {},
   "outputs": [],
   "source": [
    "lr = LinearRegression()"
   ]
  },
  {
   "cell_type": "code",
   "execution_count": 212,
   "id": "05cac4c0-e9da-49aa-be27-e4675d0c0df0",
   "metadata": {},
   "outputs": [
    {
     "data": {
      "text/html": [
       "<style>#sk-container-id-7 {color: black;background-color: white;}#sk-container-id-7 pre{padding: 0;}#sk-container-id-7 div.sk-toggleable {background-color: white;}#sk-container-id-7 label.sk-toggleable__label {cursor: pointer;display: block;width: 100%;margin-bottom: 0;padding: 0.3em;box-sizing: border-box;text-align: center;}#sk-container-id-7 label.sk-toggleable__label-arrow:before {content: \"▸\";float: left;margin-right: 0.25em;color: #696969;}#sk-container-id-7 label.sk-toggleable__label-arrow:hover:before {color: black;}#sk-container-id-7 div.sk-estimator:hover label.sk-toggleable__label-arrow:before {color: black;}#sk-container-id-7 div.sk-toggleable__content {max-height: 0;max-width: 0;overflow: hidden;text-align: left;background-color: #f0f8ff;}#sk-container-id-7 div.sk-toggleable__content pre {margin: 0.2em;color: black;border-radius: 0.25em;background-color: #f0f8ff;}#sk-container-id-7 input.sk-toggleable__control:checked~div.sk-toggleable__content {max-height: 200px;max-width: 100%;overflow: auto;}#sk-container-id-7 input.sk-toggleable__control:checked~label.sk-toggleable__label-arrow:before {content: \"▾\";}#sk-container-id-7 div.sk-estimator input.sk-toggleable__control:checked~label.sk-toggleable__label {background-color: #d4ebff;}#sk-container-id-7 div.sk-label input.sk-toggleable__control:checked~label.sk-toggleable__label {background-color: #d4ebff;}#sk-container-id-7 input.sk-hidden--visually {border: 0;clip: rect(1px 1px 1px 1px);clip: rect(1px, 1px, 1px, 1px);height: 1px;margin: -1px;overflow: hidden;padding: 0;position: absolute;width: 1px;}#sk-container-id-7 div.sk-estimator {font-family: monospace;background-color: #f0f8ff;border: 1px dotted black;border-radius: 0.25em;box-sizing: border-box;margin-bottom: 0.5em;}#sk-container-id-7 div.sk-estimator:hover {background-color: #d4ebff;}#sk-container-id-7 div.sk-parallel-item::after {content: \"\";width: 100%;border-bottom: 1px solid gray;flex-grow: 1;}#sk-container-id-7 div.sk-label:hover label.sk-toggleable__label {background-color: #d4ebff;}#sk-container-id-7 div.sk-serial::before {content: \"\";position: absolute;border-left: 1px solid gray;box-sizing: border-box;top: 0;bottom: 0;left: 50%;z-index: 0;}#sk-container-id-7 div.sk-serial {display: flex;flex-direction: column;align-items: center;background-color: white;padding-right: 0.2em;padding-left: 0.2em;position: relative;}#sk-container-id-7 div.sk-item {position: relative;z-index: 1;}#sk-container-id-7 div.sk-parallel {display: flex;align-items: stretch;justify-content: center;background-color: white;position: relative;}#sk-container-id-7 div.sk-item::before, #sk-container-id-7 div.sk-parallel-item::before {content: \"\";position: absolute;border-left: 1px solid gray;box-sizing: border-box;top: 0;bottom: 0;left: 50%;z-index: -1;}#sk-container-id-7 div.sk-parallel-item {display: flex;flex-direction: column;z-index: 1;position: relative;background-color: white;}#sk-container-id-7 div.sk-parallel-item:first-child::after {align-self: flex-end;width: 50%;}#sk-container-id-7 div.sk-parallel-item:last-child::after {align-self: flex-start;width: 50%;}#sk-container-id-7 div.sk-parallel-item:only-child::after {width: 0;}#sk-container-id-7 div.sk-dashed-wrapped {border: 1px dashed gray;margin: 0 0.4em 0.5em 0.4em;box-sizing: border-box;padding-bottom: 0.4em;background-color: white;}#sk-container-id-7 div.sk-label label {font-family: monospace;font-weight: bold;display: inline-block;line-height: 1.2em;}#sk-container-id-7 div.sk-label-container {text-align: center;}#sk-container-id-7 div.sk-container {/* jupyter's `normalize.less` sets `[hidden] { display: none; }` but bootstrap.min.css set `[hidden] { display: none !important; }` so we also need the `!important` here to be able to override the default hidden behavior on the sphinx rendered scikit-learn.org. See: https://github.com/scikit-learn/scikit-learn/issues/21755 */display: inline-block !important;position: relative;}#sk-container-id-7 div.sk-text-repr-fallback {display: none;}</style><div id=\"sk-container-id-7\" class=\"sk-top-container\"><div class=\"sk-text-repr-fallback\"><pre>LinearRegression()</pre><b>In a Jupyter environment, please rerun this cell to show the HTML representation or trust the notebook. <br />On GitHub, the HTML representation is unable to render, please try loading this page with nbviewer.org.</b></div><div class=\"sk-container\" hidden><div class=\"sk-item\"><div class=\"sk-estimator sk-toggleable\"><input class=\"sk-toggleable__control sk-hidden--visually\" id=\"sk-estimator-id-7\" type=\"checkbox\" checked><label for=\"sk-estimator-id-7\" class=\"sk-toggleable__label sk-toggleable__label-arrow\">LinearRegression</label><div class=\"sk-toggleable__content\"><pre>LinearRegression()</pre></div></div></div></div></div>"
      ],
      "text/plain": [
       "LinearRegression()"
      ]
     },
     "execution_count": 212,
     "metadata": {},
     "output_type": "execute_result"
    }
   ],
   "source": [
    "lr.fit(X, y)"
   ]
  },
  {
   "cell_type": "code",
   "execution_count": 213,
   "id": "21320e75-8d28-41dc-ac30-e0b62f75737e",
   "metadata": {},
   "outputs": [],
   "source": [
    "lr_pred = lr.predict(X)"
   ]
  },
  {
   "cell_type": "code",
   "execution_count": 214,
   "id": "cbffb2c4-834c-4323-8c36-3b0cded1ff64",
   "metadata": {},
   "outputs": [
    {
     "data": {
      "text/plain": [
       "array([32.45383204, 29.86632783, 28.02071326, 69.42207529,  6.18233325,\n",
       "        6.09425927, 75.24400277,  9.67074769,  2.41594469, 61.48441336])"
      ]
     },
     "execution_count": 214,
     "metadata": {},
     "output_type": "execute_result"
    }
   ],
   "source": [
    "lr.coef_"
   ]
  },
  {
   "cell_type": "code",
   "execution_count": 215,
   "id": "e425d0c8-e86d-489b-86ff-f2253c1c60bd",
   "metadata": {},
   "outputs": [
    {
     "data": {
      "text/plain": [
       "-3.005630422643083"
      ]
     },
     "execution_count": 215,
     "metadata": {},
     "output_type": "execute_result"
    }
   ],
   "source": [
    "lr.intercept_"
   ]
  },
  {
   "cell_type": "code",
   "execution_count": 216,
   "id": "f3e90880-e527-4c03-8587-61d843a7a69d",
   "metadata": {},
   "outputs": [],
   "source": [
    "def in_batch(X_size, batch_array):\n",
    "    \"Returns a single randomly selected index\"\n",
    "    random_row = np.random.randint(0, X_size - 1)\n",
    "    if random_row not in batch_array:\n",
    "        return int(random_row)\n",
    "    else:\n",
    "        row = in_batch(X_size, batch_array)\n",
    "        return row\n",
    "    \n",
    "def random_batch_selection(batch_size, size, batch_array):\n",
    "    \"Return a Array of randomly selected index values\"\n",
    "    for i in range(batch_size):\n",
    "        random_row = in_batch(size, batch_array)\n",
    "        batch_array[i] = random_row\n",
    "    return batch_array.astype(int)\n",
    "\n",
    "class MiniBatchGD:\n",
    "    def __init__(self, batch, learning_rate, epochs):\n",
    "        self.batch = batch\n",
    "        self.lr = learning_rate\n",
    "        self.epochs = epochs\n",
    "        self.coef_ = None\n",
    "        self.intercept_ = 0\n",
    "        \n",
    "    def fit(self, X, y):\n",
    "        self.coef_ = np.ones(X.shape[1])\n",
    "        gradients_of_coef_ = np.ones(X.shape[1])\n",
    "        gradient_of_intercept_ = 0\n",
    "        for i in range(self.epochs):\n",
    "            batch = np.zeros(self.batch)\n",
    "            X_batch = np.zeros((self.batch, X.shape[1]))\n",
    "            y_batch = np.zeros(self.batch)\n",
    "            random_batch = random_batch_selection(self.batch, X.shape[0], batch)\n",
    "            for i in range(self.batch):\n",
    "                X_batch[i] = X[random_batch[i]]\n",
    "                y_batch[i] = y[random_batch[i]]\n",
    "            y_pred = (self.coef_ @ X_batch.T) + self.intercept_\n",
    "            for i in range(X.shape[1]):\n",
    "                gradients_of_coef_[i] = (-2/self.batch) * np.sum((y_batch - y_pred) * X_batch.T[i])\n",
    "                self.coef_[i] = self.coef_[i] - (self.lr * gradients_of_coef_[i])\n",
    "            gradient_of_intercept_ = (-2/self.batch) * np.sum(y_batch - y_pred)\n",
    "            self.intercept_ -= (self.lr * gradient_of_intercept_)\n",
    "        return self.coef_, self.intercept_\n",
    "\n",
    "    def predict(self, X):\n",
    "        # return (self.coef_ * X) + self.intercept_\n",
    "        return self.coef_, self.intercept_"
   ]
  },
  {
   "cell_type": "code",
   "execution_count": 257,
   "id": "da6cd8d8-5f88-4c01-8a45-4952cc57e1a9",
   "metadata": {},
   "outputs": [],
   "source": [
    "minibgd = MiniBatchGD(100, 0.1, 12)"
   ]
  },
  {
   "cell_type": "code",
   "execution_count": 258,
   "id": "34af030f-a373-48e3-9e86-c6e11bd5e346",
   "metadata": {},
   "outputs": [
    {
     "data": {
      "text/plain": [
       "(array([31.54543868, 29.65890119, 23.80513551, 66.32100809,  8.90276689,\n",
       "        11.88027677, 70.75699777,  6.1065688 ,  1.30276589, 59.95164303]),\n",
       " -3.0148739568372043)"
      ]
     },
     "execution_count": 258,
     "metadata": {},
     "output_type": "execute_result"
    }
   ],
   "source": [
    "minibgd.fit(X, y)"
   ]
  },
  {
   "cell_type": "code",
   "execution_count": 226,
   "id": "0960a28f-426c-4ad9-baae-1d5176aab684",
   "metadata": {},
   "outputs": [
    {
     "name": "stdout",
     "output_type": "stream",
     "text": [
      "[32.45383204 29.86632783 28.02071326 69.42207529  6.18233325  6.09425927\n",
      " 75.24400277  9.67074769  2.41594469 61.48441336]\n",
      "-3.005630422643083\n"
     ]
    }
   ],
   "source": [
    "print(lr.coef_)\n",
    "print(lr.intercept_)"
   ]
  },
  {
   "cell_type": "code",
   "execution_count": 220,
   "id": "e5f16e0c-46aa-4fb9-897d-5244ea77f46e",
   "metadata": {},
   "outputs": [],
   "source": [
    "# plt.scatter(X, y)\n",
    "# plt.plot(X, lr_pred, color=\"red\", label=\"Linear Regression\")\n",
    "# plt.plot(X, y_pred, color=\"blue\", label=\"Mini Batch GD\")\n",
    "# plt.legend()\n",
    "# plt.grid();"
   ]
  },
  {
   "cell_type": "code",
   "execution_count": null,
   "id": "c1c10118-2ab1-491f-9142-ee30608fae3d",
   "metadata": {},
   "outputs": [],
   "source": []
  }
 ],
 "metadata": {
  "kernelspec": {
   "display_name": "Python 3 (ipykernel)",
   "language": "python",
   "name": "python3"
  },
  "language_info": {
   "codemirror_mode": {
    "name": "ipython",
    "version": 3
   },
   "file_extension": ".py",
   "mimetype": "text/x-python",
   "name": "python",
   "nbconvert_exporter": "python",
   "pygments_lexer": "ipython3",
   "version": "3.11.7"
  }
 },
 "nbformat": 4,
 "nbformat_minor": 5
}
