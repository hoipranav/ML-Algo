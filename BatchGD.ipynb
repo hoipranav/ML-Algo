{
 "cells": [
  {
   "cell_type": "code",
   "execution_count": 1,
   "id": "cb1921f6-9422-4f61-b2cf-2addff466bd0",
   "metadata": {},
   "outputs": [],
   "source": [
    "import numpy as np\n",
    "import pandas as pd\n",
    "from sklearn.datasets import make_regression"
   ]
  },
  {
   "cell_type": "code",
   "execution_count": 2,
   "id": "d21040e3-301d-4b75-b4b8-e6a7338e0540",
   "metadata": {},
   "outputs": [],
   "source": [
    "X, y = make_regression(n_samples=100, n_features=10, noise=80, random_state=42)"
   ]
  },
  {
   "cell_type": "code",
   "execution_count": 3,
   "id": "758b7226-258f-4ea7-988a-2683b5f84435",
   "metadata": {},
   "outputs": [],
   "source": [
    "from sklearn.linear_model import LinearRegression"
   ]
  },
  {
   "cell_type": "code",
   "execution_count": 4,
   "id": "10230d08-4ffe-498b-bfef-ca45da21b262",
   "metadata": {},
   "outputs": [],
   "source": [
    "lr = LinearRegression()"
   ]
  },
  {
   "cell_type": "code",
   "execution_count": 5,
   "id": "03dd383d-3ba1-4041-88c9-d471dabcb877",
   "metadata": {},
   "outputs": [
    {
     "data": {
      "text/html": [
       "<style>#sk-container-id-1 {color: black;background-color: white;}#sk-container-id-1 pre{padding: 0;}#sk-container-id-1 div.sk-toggleable {background-color: white;}#sk-container-id-1 label.sk-toggleable__label {cursor: pointer;display: block;width: 100%;margin-bottom: 0;padding: 0.3em;box-sizing: border-box;text-align: center;}#sk-container-id-1 label.sk-toggleable__label-arrow:before {content: \"▸\";float: left;margin-right: 0.25em;color: #696969;}#sk-container-id-1 label.sk-toggleable__label-arrow:hover:before {color: black;}#sk-container-id-1 div.sk-estimator:hover label.sk-toggleable__label-arrow:before {color: black;}#sk-container-id-1 div.sk-toggleable__content {max-height: 0;max-width: 0;overflow: hidden;text-align: left;background-color: #f0f8ff;}#sk-container-id-1 div.sk-toggleable__content pre {margin: 0.2em;color: black;border-radius: 0.25em;background-color: #f0f8ff;}#sk-container-id-1 input.sk-toggleable__control:checked~div.sk-toggleable__content {max-height: 200px;max-width: 100%;overflow: auto;}#sk-container-id-1 input.sk-toggleable__control:checked~label.sk-toggleable__label-arrow:before {content: \"▾\";}#sk-container-id-1 div.sk-estimator input.sk-toggleable__control:checked~label.sk-toggleable__label {background-color: #d4ebff;}#sk-container-id-1 div.sk-label input.sk-toggleable__control:checked~label.sk-toggleable__label {background-color: #d4ebff;}#sk-container-id-1 input.sk-hidden--visually {border: 0;clip: rect(1px 1px 1px 1px);clip: rect(1px, 1px, 1px, 1px);height: 1px;margin: -1px;overflow: hidden;padding: 0;position: absolute;width: 1px;}#sk-container-id-1 div.sk-estimator {font-family: monospace;background-color: #f0f8ff;border: 1px dotted black;border-radius: 0.25em;box-sizing: border-box;margin-bottom: 0.5em;}#sk-container-id-1 div.sk-estimator:hover {background-color: #d4ebff;}#sk-container-id-1 div.sk-parallel-item::after {content: \"\";width: 100%;border-bottom: 1px solid gray;flex-grow: 1;}#sk-container-id-1 div.sk-label:hover label.sk-toggleable__label {background-color: #d4ebff;}#sk-container-id-1 div.sk-serial::before {content: \"\";position: absolute;border-left: 1px solid gray;box-sizing: border-box;top: 0;bottom: 0;left: 50%;z-index: 0;}#sk-container-id-1 div.sk-serial {display: flex;flex-direction: column;align-items: center;background-color: white;padding-right: 0.2em;padding-left: 0.2em;position: relative;}#sk-container-id-1 div.sk-item {position: relative;z-index: 1;}#sk-container-id-1 div.sk-parallel {display: flex;align-items: stretch;justify-content: center;background-color: white;position: relative;}#sk-container-id-1 div.sk-item::before, #sk-container-id-1 div.sk-parallel-item::before {content: \"\";position: absolute;border-left: 1px solid gray;box-sizing: border-box;top: 0;bottom: 0;left: 50%;z-index: -1;}#sk-container-id-1 div.sk-parallel-item {display: flex;flex-direction: column;z-index: 1;position: relative;background-color: white;}#sk-container-id-1 div.sk-parallel-item:first-child::after {align-self: flex-end;width: 50%;}#sk-container-id-1 div.sk-parallel-item:last-child::after {align-self: flex-start;width: 50%;}#sk-container-id-1 div.sk-parallel-item:only-child::after {width: 0;}#sk-container-id-1 div.sk-dashed-wrapped {border: 1px dashed gray;margin: 0 0.4em 0.5em 0.4em;box-sizing: border-box;padding-bottom: 0.4em;background-color: white;}#sk-container-id-1 div.sk-label label {font-family: monospace;font-weight: bold;display: inline-block;line-height: 1.2em;}#sk-container-id-1 div.sk-label-container {text-align: center;}#sk-container-id-1 div.sk-container {/* jupyter's `normalize.less` sets `[hidden] { display: none; }` but bootstrap.min.css set `[hidden] { display: none !important; }` so we also need the `!important` here to be able to override the default hidden behavior on the sphinx rendered scikit-learn.org. See: https://github.com/scikit-learn/scikit-learn/issues/21755 */display: inline-block !important;position: relative;}#sk-container-id-1 div.sk-text-repr-fallback {display: none;}</style><div id=\"sk-container-id-1\" class=\"sk-top-container\"><div class=\"sk-text-repr-fallback\"><pre>LinearRegression()</pre><b>In a Jupyter environment, please rerun this cell to show the HTML representation or trust the notebook. <br />On GitHub, the HTML representation is unable to render, please try loading this page with nbviewer.org.</b></div><div class=\"sk-container\" hidden><div class=\"sk-item\"><div class=\"sk-estimator sk-toggleable\"><input class=\"sk-toggleable__control sk-hidden--visually\" id=\"sk-estimator-id-1\" type=\"checkbox\" checked><label for=\"sk-estimator-id-1\" class=\"sk-toggleable__label sk-toggleable__label-arrow\">LinearRegression</label><div class=\"sk-toggleable__content\"><pre>LinearRegression()</pre></div></div></div></div></div>"
      ],
      "text/plain": [
       "LinearRegression()"
      ]
     },
     "execution_count": 5,
     "metadata": {},
     "output_type": "execute_result"
    }
   ],
   "source": [
    "lr.fit(X, y)"
   ]
  },
  {
   "cell_type": "code",
   "execution_count": 6,
   "id": "41d62a91-27a5-4b44-8aa2-e7e12d5dddaa",
   "metadata": {},
   "outputs": [
    {
     "data": {
      "text/plain": [
       "array([30.33423542, 63.52992344, -5.09101588, 58.25084505, 91.04001829,\n",
       "       65.08066895, 74.54153815, -0.39155062,  7.55460004, 69.71564595])"
      ]
     },
     "execution_count": 6,
     "metadata": {},
     "output_type": "execute_result"
    }
   ],
   "source": [
    "lr.coef_"
   ]
  },
  {
   "cell_type": "code",
   "execution_count": 7,
   "id": "60b231d7-2247-48a3-900b-f28f07056380",
   "metadata": {},
   "outputs": [
    {
     "data": {
      "text/plain": [
       "10.45683454747535"
      ]
     },
     "execution_count": 7,
     "metadata": {},
     "output_type": "execute_result"
    }
   ],
   "source": [
    "lr.intercept_"
   ]
  },
  {
   "cell_type": "code",
   "execution_count": 128,
   "id": "01c5881e-c397-4cd6-8db7-d1db0ce632a4",
   "metadata": {},
   "outputs": [],
   "source": [
    "class BatchGD:\n",
    "    def __init__(self, learning_rate, epochs):\n",
    "        self.coef_ = None\n",
    "        self.intercept_ = 0\n",
    "        self.lr = learning_rate\n",
    "        self.epochs = epochs\n",
    "\n",
    "    def fit(self, X, y):\n",
    "        no_of_columns = X.shape[1]\n",
    "        self.coef_ = np.ones(no_of_columns)\n",
    "        slope_for_beta_i = np.zeros(no_of_columns)\n",
    "        slope_for_beta_o = 0\n",
    "        for i in range(self.epochs):\n",
    "            y_pred = (self.coef_ @ X.T) + self.intercept_\n",
    "            slope_for_beta_o = (-2/no_of_columns) * np.sum(y - y_pred)\n",
    "            for i in range(no_of_columns):\n",
    "                slope_for_beta_i[i] = (-2/no_of_columns) * np.sum((y - y_pred) @ X.T[i])\n",
    "                self.coef_[i] = self.coef_[i] - (self.lr * slope_for_beta_i[i])\n",
    "            self.intercept_ = self.intercept_ - (self.lr * slope_for_beta_o)\n",
    "        return self.coef_, self.intercept_ #only for confirmation purpose\n",
    "            \n",
    "    def predict(self, X):\n",
    "        return ((self.coef_ @ X.T) + self.intercept_)"
   ]
  },
  {
   "cell_type": "code",
   "execution_count": 129,
   "id": "3f29ec81-bf58-467e-b379-9d2998c6e033",
   "metadata": {},
   "outputs": [],
   "source": [
    "gd = BatchGD(0.01, 100)"
   ]
  },
  {
   "cell_type": "code",
   "execution_count": 130,
   "id": "aca606a5-1bd0-421d-a30a-97231eb06805",
   "metadata": {},
   "outputs": [
    {
     "data": {
      "text/plain": [
       "(array([30.33427858, 63.53060013, -5.09183282, 58.25088627, 91.03933167,\n",
       "        65.08164487, 74.54048757, -0.39267462,  7.55489174, 69.71445118]),\n",
       " 10.456622337711897)"
      ]
     },
     "execution_count": 130,
     "metadata": {},
     "output_type": "execute_result"
    }
   ],
   "source": [
    "gd.fit(X, y)"
   ]
  },
  {
   "cell_type": "code",
   "execution_count": 131,
   "id": "0bbd49ba-7666-4e20-8925-8f6b3f9144f1",
   "metadata": {},
   "outputs": [
    {
     "data": {
      "text/plain": [
       "array([30.33423542, 63.52992344, -5.09101588, 58.25084505, 91.04001829,\n",
       "       65.08066895, 74.54153815, -0.39155062,  7.55460004, 69.71564595])"
      ]
     },
     "execution_count": 131,
     "metadata": {},
     "output_type": "execute_result"
    }
   ],
   "source": [
    "lr.coef_"
   ]
  },
  {
   "cell_type": "code",
   "execution_count": 132,
   "id": "044db39a-48e0-4aa0-aff1-ba88d9ee735c",
   "metadata": {},
   "outputs": [
    {
     "data": {
      "text/plain": [
       "10.45683454747535"
      ]
     },
     "execution_count": 132,
     "metadata": {},
     "output_type": "execute_result"
    }
   ],
   "source": [
    "lr.intercept_"
   ]
  },
  {
   "cell_type": "code",
   "execution_count": null,
   "id": "18498201-a473-41d8-aab1-ccf6fbda660b",
   "metadata": {},
   "outputs": [],
   "source": []
  }
 ],
 "metadata": {
  "kernelspec": {
   "display_name": "Python 3 (ipykernel)",
   "language": "python",
   "name": "python3"
  },
  "language_info": {
   "codemirror_mode": {
    "name": "ipython",
    "version": 3
   },
   "file_extension": ".py",
   "mimetype": "text/x-python",
   "name": "python",
   "nbconvert_exporter": "python",
   "pygments_lexer": "ipython3",
   "version": "3.11.7"
  }
 },
 "nbformat": 4,
 "nbformat_minor": 5
}
